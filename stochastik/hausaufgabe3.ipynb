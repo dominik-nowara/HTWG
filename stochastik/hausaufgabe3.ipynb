{
 "cells": [
  {
   "cell_type": "markdown",
   "metadata": {},
   "source": [
    "# Hausaufgabe 3\n",
    "mit Fabian Wolter, Dominik Nowara, Begüm Peker, Selin Kabak, Ellen Peppmüller\n",
    "\n",
    "## 1.11 AUTOTESTS\n",
    "### 1.11.1\n",
    "Quantitativ Diskret - die Autos können nach der Anzahl der Reifen untereinander sortiert werden und es ist eine Zahl\n",
    "\n",
    "### 1.11.2"
   ]
  },
  {
   "cell_type": "code",
   "execution_count": 22,
   "metadata": {},
   "outputs": [
    {
     "name": "stdout",
     "output_type": "stream",
     "text": [
      "Arithmetisches Mittel:  4.12\n",
      "1. Quantil:  4.1\n",
      "2. Quantil:  4.1\n",
      "3. Quantil:  4.2\n",
      "10%-Quantil:  3.98\n",
      "Standardabweichung:  0.1483239697419133\n",
      "Spannweite:  0.3999999999999999\n"
     ]
    }
   ],
   "source": [
    "import numpy as np\n",
    "\n",
    "herstellerangaben = [4.2, 3.9, 4.3, 4.1, 4.1];\n",
    "\n",
    "mean = np.mean(herstellerangaben)\n",
    "quartile1 = np.quantile(herstellerangaben, 0.25)\n",
    "quartile2 = np.quantile(herstellerangaben, 0.5)\n",
    "quartile3 = np.quantile(herstellerangaben, 0.75)\n",
    "\n",
    "quartile10 = np.quantile(herstellerangaben, 0.1)\n",
    "\n",
    "std = np.std(herstellerangaben, ddof=1)\n",
    "\n",
    "ranges = np.ptp(herstellerangaben)\n",
    "\n",
    "print(\"Arithmetisches Mittel: \", mean)\n",
    "print(\"1. Quantil: \", quartile1)\n",
    "print(\"2. Quantil: \", quartile2)\n",
    "print(\"3. Quantil: \", quartile3)\n",
    "print(\"10%-Quantil: \", quartile10)\n",
    "print(\"Standardabweichung: \", std)\n",
    "print(\"Spannweite: \", ranges)"
   ]
  },
  {
   "cell_type": "markdown",
   "metadata": {},
   "source": [
    "### 1.11.3\n",
    "\n",
    "a)\n",
    "- Das er eine positive Abweichung in positiver Richtung gibt, sprich es wird tendentiell mehr verbraucht als im Mittelwert.\n",
    "\n",
    "b) \n",
    "- Der mindestverbrauch vom Testergebnis ist genau so viel wie der Mittelwert bei den Herstellerangaben. Außerdem ist der Interquatilabstand und die Spannweite beim Testergebnis deutlich größer.\n",
    "- Ja, das Ergebnis kann Sinn machen, da der Hersteller wahrscheinlich seine angaben mit optimalen Testverhältnissen betreibt und diese dieswegen sehr gering und genau ausfallen können.\n",
    "\n",
    "c) <br>\n",
    "- ~~0.0001~~ - Bei diesem Koeffizienten hätten die beiden Sachen die wir vergleichen fast überhaupt gar keine Koeffizients, was aber der Fall ist. <br>\n",
    "- ~~1.1~~ - Der Korrelationskoeffizient kann nicht über 1 und unter -1 sein. <br>\n",
    "- ~~-0.521~~ - Das Testergebnis hat einen deutlichen höheren Verbrauch, weswegen der Wert positiv sein muss. <br>\n",
    "- ~~0.961~~ - Bei einem Wert von fast 1 müssten beide fast gleich sein. <br>\n",
    "- 0.235 - Scheint laut uns das realistischste. Die Werte scheinen höher zu sein, als laut dem Hersteller. Aber nicht unfassbar utopisch.\n",
    "\n",
    "d)\n",
    "- Mit dem Wert wird gesagt, dass zwischen den zwei Merkmalen ein linearer Zusammenhang besteht. Da es sich bei beiden Merkmalen um den Benzinverbrauch dreht ist dies absolut zulässig."
   ]
  },
  {
   "cell_type": "markdown",
   "metadata": {},
   "source": [
    "## 2.1 WÜRFELN MIT EINEM W10\n",
    "\n",
    "\n",
    "## 2.1.1\n",
    "a) Ω = {1, 2, 3, 4, 5, 6, 7, 8, 9, 10} <br>\n",
    "b) Nein, da die 2 aus B keine ungerade Zahl ist <br>\n",
    "c) Ja, da bei beiden eine 2 vorkommt <br>\n",
    "d) Alle gerade Zahlen, außer der 2\n",
    "\n",
    "## 2.1.2\n",
    "a) P(4) = 1/10 <br>\n",
    "b) P(ungerade Augenzahl) = 5/10 <br>\n",
    "c) P(Zahl >= 3) = 8/10 <br>\n",
    "d) P(3 oder 4) = 2/10\n",
    "\n",
    "## 2.1.3\n",
    "a) A: Zweimal die 5; P(A) = 1/100<br>\n",
    "b) B: Mindestens eine 1; P(B) = 19/100<br>\n",
    "c) C: Summe gleich 4; P(C) = 3/100<br>\n",
    "d) D: Summe größer oder gleich 19; P(D) = 3/100<br>"
   ]
  }
 ],
 "metadata": {
  "kernelspec": {
   "display_name": "Python 3",
   "language": "python",
   "name": "python3"
  },
  "language_info": {
   "codemirror_mode": {
    "name": "ipython",
    "version": 3
   },
   "file_extension": ".py",
   "mimetype": "text/x-python",
   "name": "python",
   "nbconvert_exporter": "python",
   "pygments_lexer": "ipython3",
   "version": "3.11.2"
  }
 },
 "nbformat": 4,
 "nbformat_minor": 2
}
